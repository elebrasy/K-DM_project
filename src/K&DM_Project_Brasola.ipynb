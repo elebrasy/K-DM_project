{
  "nbformat": 4,
  "nbformat_minor": 0,
  "metadata": {
    "kernelspec": {
      "display_name": "Python 3",
      "language": "python",
      "name": "python3"
    },
    "language_info": {
      "codemirror_mode": {
        "name": "ipython",
        "version": 3
      },
      "file_extension": ".py",
      "mimetype": "text/x-python",
      "name": "python",
      "nbconvert_exporter": "python",
      "pygments_lexer": "ipython3",
      "version": "3.8.3"
    },
    "colab": {
      "name": "K&DM Project Brasola.ipynb",
      "provenance": [],
      "collapsed_sections": []
    }
  },
  "cells": [
    {
      "cell_type": "markdown",
      "metadata": {
        "id": "ZSHhWg8Pm1PO"
      },
      "source": [
        "## UTILS"
      ]
    },
    {
      "cell_type": "code",
      "metadata": {
        "colab": {
          "base_uri": "https://localhost:8080/"
        },
        "id": "CVuUn_Lvmm3J",
        "outputId": "3fc336bf-5ce8-4402-84ba-9be72822f4df"
      },
      "source": [
        "pip install python-sat[pblib,aiger]\n"
      ],
      "execution_count": 40,
      "outputs": [
        {
          "output_type": "stream",
          "text": [
            "Requirement already satisfied: python-sat[aiger,pblib] in /usr/local/lib/python3.7/dist-packages (0.1.7.dev6)\n",
            "Requirement already satisfied: six in /usr/local/lib/python3.7/dist-packages (from python-sat[aiger,pblib]) (1.15.0)\n",
            "Requirement already satisfied: pypblib>=0.0.3 in /usr/local/lib/python3.7/dist-packages (from python-sat[aiger,pblib]) (0.0.4)\n",
            "Requirement already satisfied: py-aiger-cnf>=2.0.0 in /usr/local/lib/python3.7/dist-packages (from python-sat[aiger,pblib]) (5.0.1)\n",
            "Requirement already satisfied: bidict<0.22.0,>=0.21.0 in /usr/local/lib/python3.7/dist-packages (from py-aiger-cnf>=2.0.0->python-sat[aiger,pblib]) (0.21.2)\n",
            "Requirement already satisfied: funcy<2.0,>=1.12 in /usr/local/lib/python3.7/dist-packages (from py-aiger-cnf>=2.0.0->python-sat[aiger,pblib]) (1.16)\n",
            "Requirement already satisfied: py-aiger<7.0.0,>=6.0.0 in /usr/local/lib/python3.7/dist-packages (from py-aiger-cnf>=2.0.0->python-sat[aiger,pblib]) (6.1.14)\n",
            "Requirement already satisfied: toposort<2.0,>=1.5 in /usr/local/lib/python3.7/dist-packages (from py-aiger<7.0.0,>=6.0.0->py-aiger-cnf>=2.0.0->python-sat[aiger,pblib]) (1.6)\n",
            "Requirement already satisfied: parsimonious<0.9.0,>=0.8.1 in /usr/local/lib/python3.7/dist-packages (from py-aiger<7.0.0,>=6.0.0->py-aiger-cnf>=2.0.0->python-sat[aiger,pblib]) (0.8.1)\n",
            "Requirement already satisfied: sortedcontainers<3.0.0,>=2.3.0 in /usr/local/lib/python3.7/dist-packages (from py-aiger<7.0.0,>=6.0.0->py-aiger-cnf>=2.0.0->python-sat[aiger,pblib]) (2.4.0)\n",
            "Requirement already satisfied: attrs<21.0.0,>=20.0.0 in /usr/local/lib/python3.7/dist-packages (from py-aiger<7.0.0,>=6.0.0->py-aiger-cnf>=2.0.0->python-sat[aiger,pblib]) (20.3.0)\n",
            "Requirement already satisfied: pyrsistent<0.18.0,>=0.17.0 in /usr/local/lib/python3.7/dist-packages (from py-aiger<7.0.0,>=6.0.0->py-aiger-cnf>=2.0.0->python-sat[aiger,pblib]) (0.17.3)\n"
          ],
          "name": "stdout"
        }
      ]
    },
    {
      "cell_type": "code",
      "metadata": {
        "id": "Du6es2LDnCQ-"
      },
      "source": [
        "import numpy as np\n",
        "import pandas as pd\n",
        "\n",
        "setseed = np.random.seed(15)"
      ],
      "execution_count": 41,
      "outputs": []
    },
    {
      "cell_type": "code",
      "metadata": {
        "id": "dl_3JDjNnABH"
      },
      "source": [
        "from pysat.examples.rc2 import RC2\n",
        "from pysat.formula import WCNF, WCNFPlus\n",
        "from pysat.card import *\n",
        "from pysat.solvers import Minicard, Solver\n",
        "solve = RC2(WCNF(), solver ='gc41')\n"
      ],
      "execution_count": 42,
      "outputs": []
    },
    {
      "cell_type": "code",
      "metadata": {
        "colab": {
          "base_uri": "https://localhost:8080/"
        },
        "id": "B7xwDSlPmz1H",
        "outputId": "1d8fedf4-3c8c-4007-c6d0-c234d8a1ef1b"
      },
      "source": [
        "# set number of parents and number of teachers\n",
        "T = 4\n",
        "P = 5\n",
        "# random assigment parent/teacher\n",
        "S = np.random.binomial(n=1, p=0.6, size=[T*P]).reshape((P,T))\n",
        "print(S.shape)\n",
        "print(S)\n",
        "\n",
        "# get max number of meetings\n",
        "meetings = [np.count_nonzero(S[:,c] == 1) for c in range(T)]\n",
        "spots = max(meetings) \n",
        "\n",
        "#set a max number of meetings per teacher,\n",
        "#spots= 6\n",
        "\n",
        "\n",
        "def m(t, p, s):\n",
        "    return 1 + p* T * spots + s * T + t \n",
        "\n"
      ],
      "execution_count": 43,
      "outputs": [
        {
          "output_type": "stream",
          "text": [
            "(5, 4)\n",
            "[[0 1 1 1]\n",
            " [1 1 1 1]\n",
            " [1 1 0 1]\n",
            " [0 0 0 1]\n",
            " [1 1 1 1]]\n"
          ],
          "name": "stdout"
        }
      ]
    },
    {
      "cell_type": "markdown",
      "metadata": {
        "id": "8kSq2PxTmhka"
      },
      "source": [
        "## Variable encodings"
      ]
    },
    {
      "cell_type": "code",
      "metadata": {
        "colab": {
          "base_uri": "https://localhost:8080/"
        },
        "id": "LFedXcwomhka",
        "outputId": "9983894b-f2af-4bf3-879c-ca73f0fcb039"
      },
      "source": [
        "decoding_list =[]\n",
        "\n",
        "for p in range(P):\n",
        "  for s in range(spots):\n",
        "        for t in range(T):\n",
        "            print(f'{(t,p,s)} is encoded in {m(t,p,s)}')\n",
        "            decoding_list.append((t,p,s))"
      ],
      "execution_count": 44,
      "outputs": [
        {
          "output_type": "stream",
          "text": [
            "(0, 0, 0) is encoded in 1\n",
            "(1, 0, 0) is encoded in 2\n",
            "(2, 0, 0) is encoded in 3\n",
            "(3, 0, 0) is encoded in 4\n",
            "(0, 0, 1) is encoded in 5\n",
            "(1, 0, 1) is encoded in 6\n",
            "(2, 0, 1) is encoded in 7\n",
            "(3, 0, 1) is encoded in 8\n",
            "(0, 0, 2) is encoded in 9\n",
            "(1, 0, 2) is encoded in 10\n",
            "(2, 0, 2) is encoded in 11\n",
            "(3, 0, 2) is encoded in 12\n",
            "(0, 0, 3) is encoded in 13\n",
            "(1, 0, 3) is encoded in 14\n",
            "(2, 0, 3) is encoded in 15\n",
            "(3, 0, 3) is encoded in 16\n",
            "(0, 0, 4) is encoded in 17\n",
            "(1, 0, 4) is encoded in 18\n",
            "(2, 0, 4) is encoded in 19\n",
            "(3, 0, 4) is encoded in 20\n",
            "(0, 1, 0) is encoded in 21\n",
            "(1, 1, 0) is encoded in 22\n",
            "(2, 1, 0) is encoded in 23\n",
            "(3, 1, 0) is encoded in 24\n",
            "(0, 1, 1) is encoded in 25\n",
            "(1, 1, 1) is encoded in 26\n",
            "(2, 1, 1) is encoded in 27\n",
            "(3, 1, 1) is encoded in 28\n",
            "(0, 1, 2) is encoded in 29\n",
            "(1, 1, 2) is encoded in 30\n",
            "(2, 1, 2) is encoded in 31\n",
            "(3, 1, 2) is encoded in 32\n",
            "(0, 1, 3) is encoded in 33\n",
            "(1, 1, 3) is encoded in 34\n",
            "(2, 1, 3) is encoded in 35\n",
            "(3, 1, 3) is encoded in 36\n",
            "(0, 1, 4) is encoded in 37\n",
            "(1, 1, 4) is encoded in 38\n",
            "(2, 1, 4) is encoded in 39\n",
            "(3, 1, 4) is encoded in 40\n",
            "(0, 2, 0) is encoded in 41\n",
            "(1, 2, 0) is encoded in 42\n",
            "(2, 2, 0) is encoded in 43\n",
            "(3, 2, 0) is encoded in 44\n",
            "(0, 2, 1) is encoded in 45\n",
            "(1, 2, 1) is encoded in 46\n",
            "(2, 2, 1) is encoded in 47\n",
            "(3, 2, 1) is encoded in 48\n",
            "(0, 2, 2) is encoded in 49\n",
            "(1, 2, 2) is encoded in 50\n",
            "(2, 2, 2) is encoded in 51\n",
            "(3, 2, 2) is encoded in 52\n",
            "(0, 2, 3) is encoded in 53\n",
            "(1, 2, 3) is encoded in 54\n",
            "(2, 2, 3) is encoded in 55\n",
            "(3, 2, 3) is encoded in 56\n",
            "(0, 2, 4) is encoded in 57\n",
            "(1, 2, 4) is encoded in 58\n",
            "(2, 2, 4) is encoded in 59\n",
            "(3, 2, 4) is encoded in 60\n",
            "(0, 3, 0) is encoded in 61\n",
            "(1, 3, 0) is encoded in 62\n",
            "(2, 3, 0) is encoded in 63\n",
            "(3, 3, 0) is encoded in 64\n",
            "(0, 3, 1) is encoded in 65\n",
            "(1, 3, 1) is encoded in 66\n",
            "(2, 3, 1) is encoded in 67\n",
            "(3, 3, 1) is encoded in 68\n",
            "(0, 3, 2) is encoded in 69\n",
            "(1, 3, 2) is encoded in 70\n",
            "(2, 3, 2) is encoded in 71\n",
            "(3, 3, 2) is encoded in 72\n",
            "(0, 3, 3) is encoded in 73\n",
            "(1, 3, 3) is encoded in 74\n",
            "(2, 3, 3) is encoded in 75\n",
            "(3, 3, 3) is encoded in 76\n",
            "(0, 3, 4) is encoded in 77\n",
            "(1, 3, 4) is encoded in 78\n",
            "(2, 3, 4) is encoded in 79\n",
            "(3, 3, 4) is encoded in 80\n",
            "(0, 4, 0) is encoded in 81\n",
            "(1, 4, 0) is encoded in 82\n",
            "(2, 4, 0) is encoded in 83\n",
            "(3, 4, 0) is encoded in 84\n",
            "(0, 4, 1) is encoded in 85\n",
            "(1, 4, 1) is encoded in 86\n",
            "(2, 4, 1) is encoded in 87\n",
            "(3, 4, 1) is encoded in 88\n",
            "(0, 4, 2) is encoded in 89\n",
            "(1, 4, 2) is encoded in 90\n",
            "(2, 4, 2) is encoded in 91\n",
            "(3, 4, 2) is encoded in 92\n",
            "(0, 4, 3) is encoded in 93\n",
            "(1, 4, 3) is encoded in 94\n",
            "(2, 4, 3) is encoded in 95\n",
            "(3, 4, 3) is encoded in 96\n",
            "(0, 4, 4) is encoded in 97\n",
            "(1, 4, 4) is encoded in 98\n",
            "(2, 4, 4) is encoded in 99\n",
            "(3, 4, 4) is encoded in 100\n"
          ],
          "name": "stdout"
        }
      ]
    },
    {
      "cell_type": "code",
      "metadata": {
        "id": "9lm8GG-pmhkb"
      },
      "source": [
        "# variables encoding, in soft form since i will use cardinality constraint w.r.t. S\n",
        "\n",
        "for s in range(spots):\n",
        "    for p in range(P):\n",
        "        for t in range(T):\n",
        "            solve.add_clause([m(t,p,s)],100)\n",
        "            "
      ],
      "execution_count": 45,
      "outputs": []
    },
    {
      "cell_type": "markdown",
      "metadata": {
        "id": "D0Lcnceemhkb"
      },
      "source": [
        "## Other constraints"
      ]
    },
    {
      "cell_type": "markdown",
      "metadata": {
        "id": "K8D3VMLfmhkb"
      },
      "source": [
        "\n",
        "A teacher cannot meet 2 parents at the same time\n",
        "\n",
        "A parent cannot meet 2 teachers at the same time\n",
        "\n",
        "There is only one meeting per pair\n",
        "\n",
        "- $ m_{t,p,s} \\to \\lnot m_{t,p',s} \\forall p' \\neq p  $\n",
        "- $ m_{t,p,s} \\to  \\lnot m_{t',p,s} \\forall t' \\neq t  $\n",
        "- $ m_{t,p,s} \\to  \\lnot m_{t,p,s'} \\forall s' \\neq s  $"
      ]
    },
    {
      "cell_type": "code",
      "metadata": {
        "id": "FNdvVEfxcB7s"
      },
      "source": [
        "# spot1 -> not spot2: CNF not spot1 or not spot2\n",
        "for t in range(T):\n",
        "    for p in range(P):\n",
        "        for s in range(spots):\n",
        "            for s_2 in range(s+1,spots):\n",
        "                solve.add_clause([-m(t,p,s), -m(t,p,s_2)])\n",
        "\n",
        "\n",
        "# a parent cannot meet 2 teachers at the same time\n",
        "\n",
        "for s in range(spots):\n",
        "    for p in range(P):\n",
        "        for t in range(T):\n",
        "            for t_2 in range(t+1,T):\n",
        "                solve.add_clause([-m(t,p,s), -m(t_2,p,s)])\n",
        "# teachers cannot meet 2 parents at the same time\n",
        "for s in range(spots):\n",
        "    for t in range(T):\n",
        "        for p in range(P):\n",
        "            for p_2 in range(p+1,P):\n",
        "                solve.add_clause([-m(t,p,s), -m(t,p_2,s)])"
      ],
      "execution_count": 46,
      "outputs": []
    },
    {
      "cell_type": "code",
      "metadata": {
        "id": "rWiJSAbPmhkc"
      },
      "source": [
        "\n",
        "w = WCNFPlus()\n",
        "# at most one meeting for each 1 in S, and no meetings for 0 in S\n",
        "# use WCNFPlus since it has atmost parameter\n",
        "\n",
        "for t in range(T):\n",
        "    for p in range(P):\n",
        "        \n",
        "        w.append([[m(t, p, s) for s in range(spots)],\n",
        "                    int(S[p, t])], is_atmost=True)\n",
        "\n"
      ],
      "execution_count": 47,
      "outputs": []
    },
    {
      "cell_type": "code",
      "metadata": {
        "id": "2I00mcy2netD"
      },
      "source": [
        "temp = [solve.add_clause(clause) for clause in w.atms]\n"
      ],
      "execution_count": 48,
      "outputs": []
    },
    {
      "cell_type": "code",
      "metadata": {
        "id": "8ZEP-KfXmhkd"
      },
      "source": [
        "# First solution\n",
        "\n",
        "model = solve.compute()\n",
        "\n",
        "index=[c-1 for c in model if c>0]\n",
        "\n",
        "array=np.array(decoding_list)\n",
        "\n"
      ],
      "execution_count": 49,
      "outputs": []
    },
    {
      "cell_type": "markdown",
      "metadata": {
        "id": "cAlIyr3R_sj1"
      },
      "source": [
        "### Visualize schedules"
      ]
    },
    {
      "cell_type": "code",
      "metadata": {
        "colab": {
          "base_uri": "https://localhost:8080/"
        },
        "id": "-_AkgVgTrvJD",
        "outputId": "5a983621-5fd4-4dc8-d7e9-241834e98e32"
      },
      "source": [
        "\n",
        "Parents= [\"Parent \" + str(i) for i in range(P)]\n",
        "Slot_number = [\"Slot \" + str(i) for i in range(spots)]\n",
        "Teachers = [\"Teacher \" + str(i) for i in range(T)]\n",
        "\n",
        "Tables = []\n",
        "\n",
        "for c in range(spots):\n",
        "    Table = [\"\"] * T\n",
        "    Tables.append(Table)\n",
        "    for t, p, s in array[index,] :\n",
        "        if s == c:\n",
        "            Table[t] = Parents[p]\n",
        "  \n",
        "\n",
        "\n",
        "pd.DataFrame(Tables, index = Slot_number, columns = Teachers)\n",
        "\n",
        "df1=pd.DataFrame(Tables, index = Slot_number, columns = Teachers)\n",
        "print(f'The following are set to true:{[c for c in model if c>0]}')\n",
        "print(df1)"
      ],
      "execution_count": 50,
      "outputs": [
        {
          "output_type": "stream",
          "text": [
            "The following are set to true:[4, 6, 11, 21, 28, 34, 39, 42, 45, 52, 80, 87, 90, 96, 97]\n",
            "       Teacher 0 Teacher 1 Teacher 2 Teacher 3\n",
            "Slot 0  Parent 1  Parent 2            Parent 0\n",
            "Slot 1  Parent 2  Parent 0  Parent 4  Parent 1\n",
            "Slot 2            Parent 4  Parent 0  Parent 2\n",
            "Slot 3            Parent 1            Parent 4\n",
            "Slot 4  Parent 4            Parent 1  Parent 3\n"
          ],
          "name": "stdout"
        }
      ]
    },
    {
      "cell_type": "markdown",
      "metadata": {
        "id": "0-Uuna9kLL9V"
      },
      "source": [
        "## ENCODE PREFERENCE"
      ]
    },
    {
      "cell_type": "markdown",
      "metadata": {
        "id": "_lT839haLP9t"
      },
      "source": [
        "We prefer schedules where teachers do not stay idle, i.e. solutions with consecutive time slots. This che be encoded in the following way:\n",
        "\n",
        "- if solt i is occupied -> also next solt is occupied\n",
        "- $\\forall t,p \\quad m_{t,p,s} \\to m_{t,p,s+1}$ in CNF $ \\lnot {m_{t,p,s}} \\lor m_{t,p,s+1} $\n",
        "\n",
        "For these clauses a weight is assigend."
      ]
    },
    {
      "cell_type": "code",
      "metadata": {
        "id": "Yaz0Nz0HLLOM"
      },
      "source": [
        "\n",
        "for t in range(T):\n",
        "  for p in range(P):\n",
        "      for s in range(spots):\n",
        "          for s_2 in range(s+1,spots):\n",
        "                solve.add_clause([-m(t,p,s), m(t,p,s_2)], weight=10)\n",
        "\n"
      ],
      "execution_count": 51,
      "outputs": []
    },
    {
      "cell_type": "code",
      "metadata": {
        "colab": {
          "base_uri": "https://localhost:8080/"
        },
        "id": "n7UBy5HBNrT1",
        "outputId": "7c92e701-728e-462e-a06f-d74c08c3fdf0"
      },
      "source": [
        "model = solve.compute()\n",
        "\n",
        "index=[c-1 for c in model if c>0]\n",
        "print(f'The following are set to true:{[c for c in model if c>0]}')\n",
        "\n",
        "array=np.array(decoding_list)\n",
        "\n",
        "\n",
        "Parents = [\"Parent \" + str(i) for i in range(P)]\n",
        "Slot_number = [\"Slot \" + str(i) for i in range(spots)]\n",
        "Teachers = [\"Teacher \" + str(i) for i in range(T)]\n",
        "\n",
        "Tables = []\n",
        "\n",
        "for c in range(spots):\n",
        "    Table = [\"\"] * T\n",
        "    Tables.append(Table)\n",
        "    for t, p, s in array[index,] :\n",
        "        if s == c:\n",
        "            Table[t] = Parents[p]\n",
        "  \n",
        "\n",
        "\n",
        "df2=pd.DataFrame(Tables, index = Slot_number, columns = Teachers)\n",
        "print(df2)"
      ],
      "execution_count": 52,
      "outputs": [
        {
          "output_type": "stream",
          "text": [
            "The following are set to true:[4, 11, 14, 28, 30, 35, 37, 49, 56, 58, 80, 86, 92, 93, 99]\n",
            "       Teacher 0 Teacher 1 Teacher 2 Teacher 3\n",
            "Slot 0                                Parent 0\n",
            "Slot 1            Parent 4            Parent 1\n",
            "Slot 2  Parent 2  Parent 1  Parent 0  Parent 4\n",
            "Slot 3  Parent 4  Parent 0  Parent 1  Parent 2\n",
            "Slot 4  Parent 1  Parent 2  Parent 4  Parent 3\n"
          ],
          "name": "stdout"
        }
      ]
    }
  ]
}